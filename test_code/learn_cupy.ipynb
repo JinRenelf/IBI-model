{
 "cells": [
  {
   "cell_type": "code",
   "execution_count": null,
   "metadata": {
    "collapsed": true
   },
   "outputs": [],
   "source": [
    "import os\n",
    "import time\n",
    "import cupy as cp\n",
    "import numpy as np\n",
    "import pandas as pd"
   ]
  },
  {
   "cell_type": "code",
   "execution_count": null,
   "outputs": [],
   "source": [
    "df_variants=pd.read_csv(os.path.join(\"..\",\"data\",\"chrm21__KidsFirst_snp01_dominant_withCorrect_Index_RR1.csv\"),index_col=0)\n",
    "df_traits=pd.read_csv(os.path.join(\"..\",\"data\",\"Phenotype__KidsFirst_withCorrect_Index.csv\"),index_col=0)\n",
    "variants=np.array(df_variants,dtype=np.int16)\n",
    "traits=np.array(df_traits,dtype=np.int16)\n",
    "cvariants=cp.asarray(variants)\n",
    "ctraits=cp.asarray(traits)"
   ],
   "metadata": {
    "collapsed": false,
    "pycharm": {
     "name": "#%%\n"
    }
   }
  },
  {
   "cell_type": "code",
   "source": [
    "st=time.time()\n",
    "res=variants@traits\n",
    "et=time.time()\n",
    "print(\"numpy elpased time:\",et-st)"
   ],
   "metadata": {
    "collapsed": false,
    "pycharm": {
     "name": "#%%\n"
    }
   },
   "execution_count": null,
   "outputs": []
  }
 ],
 "metadata": {
  "kernelspec": {
   "display_name": "Python 3",
   "language": "python",
   "name": "python3"
  },
  "language_info": {
   "codemirror_mode": {
    "name": "ipython",
    "version": 2
   },
   "file_extension": ".py",
   "mimetype": "text/x-python",
   "name": "python",
   "nbconvert_exporter": "python",
   "pygments_lexer": "ipython2",
   "version": "2.7.6"
  }
 },
 "nbformat": 4,
 "nbformat_minor": 0
}